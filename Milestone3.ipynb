{
 "cells": [
  {
   "cell_type": "markdown",
   "id": "7ca650c2-d35d-44d2-b4f8-d6b8c4a1f86c",
   "metadata": {},
   "source": [
    "# Pull in dataset, cleaning it, and splitting it."
   ]
  },
  {
   "cell_type": "code",
   "execution_count": 4,
   "id": "7a5353ef-1e55-4b03-9b92-13bf42af20a4",
   "metadata": {},
   "outputs": [],
   "source": [
    "import pandas as pd \n",
    "import sklearn\n",
    "from sklearn.model_selection import StratifiedShuffleSplit\n",
    "\n",
    "\n",
    "\n",
    "#initialize to use for later\n",
    "wine_train_set=0\n",
    "wine_test_set=0\n",
    "#code is the same as from over on the initial exploration notebook.\n",
    "dataframe = pd.read_csv(\"winequality-white.csv\")\n",
    "dataframeCopy = dataframe.copy()\n",
    "dataframeCopy.dropna(axis='index', how='any', inplace=True)\n",
    "dataframeCopy.dropna(axis='columns', how='any', inplace=True)\n",
    "\n",
    "#stratifying data on quality to predict it\n",
    "#reverted the test size\n",
    "splitter = StratifiedShuffleSplit(n_splits=1, test_size=0.25, random_state=456)\n",
    "\n",
    "for train_indices, test_indices in splitter.split(dataframeCopy, dataframeCopy[\"quality\"]):\n",
    "    wine_train_set = dataframeCopy.iloc[train_indices]\n",
    "    wine_test_set = dataframeCopy.iloc[test_indices]\n",
    "    \n",
    "\n",
    "workingset=wine_train_set.copy()\n",
    "testingset=wine_test_set.copy()"
   ]
  },
  {
   "cell_type": "markdown",
   "id": "d38ef80c-145e-499b-bcad-b44065fd116c",
   "metadata": {},
   "source": [
    "# Clustering"
   ]
  },
  {
   "cell_type": "code",
   "execution_count": 13,
   "id": "fda39645-62f4-4bf0-a319-6afb10354ea4",
   "metadata": {},
   "outputs": [
    {
     "name": "stdout",
     "output_type": "stream",
     "text": [
      "Centroids are: [[1.30032258e+01 9.56736243e+00 9.97497495e-01 4.93282732e-02\n",
      "  2.80407970e-01 7.00132827e+00 4.99829222e-01 3.13762808e+00]\n",
      " [2.20665635e+00 1.21550052e+01 9.90346494e-01 3.60433437e-02\n",
      "  2.83761610e-01 6.51455108e+00 4.97260062e-01 3.21518576e+00]\n",
      " [5.65348331e+00 1.07843880e+01 9.93448331e-01 4.55152395e-02\n",
      "  2.86335269e-01 6.72467344e+00 4.81320755e-01 3.20898403e+00]\n",
      " [8.90639445e+00 1.01596251e+01 9.95380755e-01 4.68582435e-02\n",
      "  2.92280431e-01 6.95069337e+00 4.70847458e-01 3.16855162e+00]\n",
      " [1.72881743e+01 9.34266943e+00 9.99167884e-01 4.99253112e-02\n",
      "  2.67074689e-01 6.91161826e+00 4.96265560e-01 3.14863071e+00]\n",
      " [1.58614130e+00 1.02546558e+01 9.92801087e-01 4.92793478e-02\n",
      "  2.61016304e-01 7.00135870e+00 4.96315217e-01 3.21538043e+00]\n",
      " [6.58000000e+01 1.17000000e+01 1.03898000e+00 7.40000000e-02\n",
      "  9.65000000e-01 7.80000000e+00 6.90000000e-01 3.39000000e+00]]\n",
      "The final distortion is: 9350.752692920545\n",
      "[2 1 1 ... 3 3 3]\n",
      "Averaging and taking the square root gives  1.5955588284995887\n",
      "The predicted class: [2 1 1 ... 3 3 3]\n"
     ]
    }
   ],
   "source": [
    "#import for Clustering as pert the K-means clustering Slides.\n",
    "from sklearn.cluster import KMeans\n",
    "import math\n",
    "\n",
    "\n",
    "#buuld classifier and X before fitting\n",
    "kmeans_classifier = KMeans(n_clusters=7, n_init=20)\n",
    "\n",
    "X= workingset[[\"residual sugar\", \"alcohol\", \"density\",\"chlorides\",\"volatile acidity\", \"fixed acidity\", \"sulphates\", \"pH\"]]\n",
    "\n",
    "\n",
    "#fit and printout attribrutes.\n",
    "kmeans_classifier.fit(X)\n",
    "print(\"Centroids are:\", kmeans_classifier.cluster_centers_)\n",
    "print(\"The final distortion is:\", kmeans_classifier.inertia_)\n",
    "print(kmeans_classifier.labels_)\n",
    "RMS_average = math.sqrt(kmeans_classifier.inertia_ / len(X))\n",
    "print(\"Averaging and taking the square root gives \", RMS_average)\n",
    "\n",
    "#print out closest cluster centroid.\n",
    "new_instance = workingset[[\"residual sugar\", \"alcohol\", \"density\",\"chlorides\",\"volatile acidity\", \"fixed acidity\", \"sulphates\", \"pH\" ]]\n",
    "class_out = kmeans_classifier.predict(new_instance)\n",
    "print(\"The predicted class:\", class_out)\n",
    "\n"
   ]
  },
  {
   "cell_type": "markdown",
   "id": "0fe70d17-074b-4d16-bc65-3895c26a553c",
   "metadata": {},
   "source": [
    "# Dimensional Analysis"
   ]
  },
  {
   "cell_type": "code",
   "execution_count": 46,
   "id": "87feac3f-0da3-4c58-9923-b7edaee41031",
   "metadata": {},
   "outputs": [
    {
     "name": "stdout",
     "output_type": "stream",
     "text": [
      "[9.31585186e-01 4.26490912e-02 2.42924592e-02 6.84558285e-04\n",
      " 4.12048726e-04 3.62035853e-04 1.46081379e-05 1.29531096e-08]\n",
      "[0.93158519 0.97423428 0.99852674 0.99921129 0.99962334 0.99998538\n",
      " 0.99999999 1.        ]\n",
      "The number of dimensions that explain 95% of the variation:  2\n",
      "Pipeline(steps=[('pca', PCA(n_components=8)),\n",
      "                ('svc', SVC(max_iter=500, random_state=29, tol=0.1))])\n"
     ]
    },
    {
     "name": "stderr",
     "output_type": "stream",
     "text": [
      "C:\\Users\\s529027\\Documents\\GitHub\\ml-s24-project-DerekVolner\\ds-venv\\Lib\\site-packages\\sklearn\\svm\\_base.py:297: ConvergenceWarning: Solver terminated early (max_iter=500).  Consider pre-processing your data with StandardScaler or MinMaxScaler.\n",
      "  warnings.warn(\n"
     ]
    },
    {
     "name": "stdout",
     "output_type": "stream",
     "text": [
      "metrics for the training set being here\n",
      "[[  0   0  10   4   1   0   0]\n",
      " [  0   0  97  25   0   0   0]\n",
      " [  0   0 761 328   4   0   0]\n",
      " [  0   0 937 696  15   0   0]\n",
      " [  0   0 256 389  15   0   0]\n",
      " [  0   0  32  96   3   0   0]\n",
      " [  0   0   2   2   0   0   0]]\n",
      "Accuracy is  0.40076231962973047\n",
      "Precision is  0.38180353671768685\n",
      "Sensitivity is  0.40076231962973047\n",
      "F1 is  0.3457010923605732\n",
      "metrics for the testing set being here\n",
      "[[  0   0   4   1   0   0   0]\n",
      " [  0   0  31  10   0   0   0]\n",
      " [  0   0 259 104   1   0   0]\n",
      " [  0   0 305 239   6   0   0]\n",
      " [  0   0  71 146   3   0   0]\n",
      " [  0   0  18  26   0   0   0]\n",
      " [  0   0   0   1   0   0   0]]\n",
      "Accuracy is  0.4089795918367347\n",
      "Precision is  0.36935494677991226\n",
      "Sensitivity is  0.4089795918367347\n",
      "F1 is  0.35026535687366517\n"
     ]
    }
   ],
   "source": [
    "# Part 2 Do dimensional Analysis\n",
    "\n",
    "#imports for everything in this section\n",
    "from sklearn.decomposition import PCA\n",
    "import numpy as np\n",
    "import matplotlib.pyplot as plt\n",
    "from sklearn.svm import SVC\n",
    "from sklearn.pipeline import Pipeline\n",
    "from sklearn.metrics import accuracy_score, precision_score, recall_score, f1_score, confusion_matrix\n",
    "\n",
    "\n",
    "pca = PCA()\n",
    "X_2D = pca.fit_transform(X)\n",
    "\n",
    "\n",
    "print(pca.explained_variance_ratio_)\n",
    "cumulative_sums = np.cumsum(pca.explained_variance_ratio_)\n",
    "print(cumulative_sums)\n",
    "d = np.argmax(cumulative_sums >= 0.95) + 1\n",
    "print(\"The number of dimensions that explain 95% of the variation: \",d)\n",
    "d_values = [i+1 for i in range(0,len(cumulative_sums))]\n",
    "\n",
    "\n",
    "\n",
    "#scaling the x and y's so warnings stop being thrown\n",
    "scaler = StandardScaler()\n",
    "\n",
    "\n",
    "\n",
    "#define working variables for pca to working with \n",
    "X_train = workingset[[\"residual sugar\", \"alcohol\", \"density\",\"chlorides\",\"volatile acidity\", \"fixed acidity\", \"sulphates\", \"pH\"]]\n",
    "y_train = workingset[\"quality\"]\n",
    "\n",
    "X_test = testingset[[\"residual sugar\", \"alcohol\", \"density\",\"chlorides\",\"volatile acidity\", \"fixed acidity\", \"sulphates\", \"pH\"]]\n",
    "y_test = testingset[\"quality\"]\n",
    "\n",
    "\n",
    "\n",
    "workingSet_pca = PCA(n_components=8)\n",
    "workinSet_model = SVC(random_state = 29, max_iter=500, tol=0.1)\n",
    "\n",
    "myPipe = Pipeline([\n",
    "    ('pca', workingSet_pca),\n",
    "    ('svc', workinSet_model)\n",
    "])\n",
    "\n",
    "print(myPipe)\n",
    "myPipe.fit(X_train, y_train)\n",
    "\n",
    "\n",
    "y_predicted = myPipe.predict(X_train)\n",
    "matrix = confusion_matrix(y_train, y_predicted)\n",
    "print(\"metrics for the training set being here\")\n",
    "print(matrix)\n",
    "\n",
    "\n",
    "print (\"Accuracy is \", accuracy_score(y_train, y_predicted))\n",
    "\n",
    "# We have to specify how to combine for the multiclassifications\n",
    "print (\"Precision is \", precision_score(y_train, y_predicted, zero_division=0.0, average=\"weighted\"))\n",
    "print (\"Sensitivity is \", recall_score(y_train, y_predicted, average=\"weighted\"))\n",
    "print (\"F1 is \", f1_score(y_train, y_predicted, average=\"weighted\"))\n",
    "\n",
    "print(\"metrics for the testing set being here\")\n",
    "y_predicted = myPipe.predict(X_test)\n",
    "matrix = confusion_matrix(y_test, y_predicted)\n",
    "print(matrix)\n",
    "print (\"Accuracy is \", accuracy_score(y_test, y_predicted))\n",
    "\n",
    "# We have to specify how to combine for the multiclassifications\n",
    "print (\"Precision is \", precision_score(y_test, y_predicted, zero_division=0.0, average=\"weighted\"))\n",
    "print (\"Sensitivity is \", recall_score(y_test, y_predicted, average=\"weighted\"))\n",
    "print (\"F1 is \", f1_score(y_test, y_predicted, average=\"weighted\"))\n"
   ]
  },
  {
   "cell_type": "markdown",
   "id": "a942ff75-e328-40a0-967f-8462a176faa7",
   "metadata": {},
   "source": [
    "#### Actual analysis of the metrics and the PCA \n",
    "\n",
    "- it seems the the first feature X, which is defined in the clustering section, and states the residual sugar explains about 93.16% of the variation in the data\n",
    "- then another 4% on top of that from the second feature in X, that being alcohol, combined with the first feature explains about 97.42% of the variation in the data\n",
    "- another 2.43% is explained by the third feature in X, which is density, combined with the other features percentages we get about 99.85% of the variation in the data explained by these 3\n"
   ]
  },
  {
   "cell_type": "markdown",
   "id": "5ff1d36a-cb0f-45a7-8210-a2f521bd84b5",
   "metadata": {},
   "source": [
    "# Vizualization and Narrative of Data Predictively"
   ]
  },
  {
   "cell_type": "code",
   "execution_count": 67,
   "id": "208b0f9f-4240-489e-b80f-16d53bc837b5",
   "metadata": {},
   "outputs": [
    {
     "data": {
      "image/png": "[encoded data removed]",
      "text/plain": [
       "<Figure size 640x480 with 1 Axes>"
      ]
     },
     "metadata": {},
     "output_type": "display_data"
    },
    {
     "data": {
      "image/png": "[encoded data removed]",
      "text/plain": [
       "<Figure size 640x480 with 1 Axes>"
      ]
     },
     "metadata": {},
     "output_type": "display_data"
    }
   ],
   "source": [
    "\n",
    "\n",
    "#this is the exact same graph as above but I'm uncertain of whether it should just be in this section, the one above or if both is fine.\n",
    "plt.title(\"Percent of Data Explained by Features\")\n",
    "plt.ylabel(\"Percent of Data explained\")\n",
    "plt.xlabel(\"Feature's position in X array\")\n",
    "plt.plot(d_values, cumulative_sums)\n",
    "plt.show()\n",
    "\n",
    "\n",
    "centoridPlacements= kmeans_classifier.cluster_centers_\n",
    "\n",
    "centroids_x = centoridPlacements[:,0]\n",
    "centroids_y = centoridPlacements[:,1]\n",
    "# the code for the centroids part is being adapted from: https://stackoverflow.com/questions/61181342/how-to-graph-centroids-with-kmeans\n",
    "# because the code from the slides wasn't working to print out stuff for the dataset so far as I could tell\n",
    "\n",
    "plt.scatter(centroids_x,centroids_y,marker = \".\", s=175,linewidths = 7, zorder = 100,  c=['green', 'red','blue','yellow','orange','purple','brown'])\n",
    "\n",
    "plt.xlabel(\"X\")\n",
    "plt.ylabel(\"Y\")\n",
    "plt.show()\n",
    "\n"
   ]
  },
  {
   "cell_type": "markdown",
   "id": "9a96c4ff-1630-46ba-aabf-16b003a9008e",
   "metadata": {},
   "source": [
    "### Predictive Narrative for the first graph: \n",
    "  - The features other than the first 3 features result in less than 1% of the variation being explained in the data, this is partly why the graph on the y axis starts at 0.93, changes sharply once for the next 4%, then a second sharp turn for another 2.43% and then tapers off above 99.85%\n",
    "  - Predictively speaking if we add more features I think it would result in small and >1% increase in features explaining variance in data because the first feature in x which in this case is residual sugar already explains about 93% of the variance in the data while the rest don't nearly contributed nearly as much to the variance past the third.\n",
    "### Predictive Narrative for the second graph:\n",
    "  -  I believe if we added more features from the dataset it should result in clusters in the x-range of about 0-17 and y ranges of about 0-10, the reson is for this is because currently are data is clustering around these numbers with 2 outliers I will talk about in the next section for anomolous data.\n",
    "     - I am not super sure how to graph the centroids for the the data I have as the notes for kmeans.ipynb has code for data that is defined within the program rather then a dataset, might be a scaling issue but I was having issues attempting to scale the data.\n",
    "     - the code for the centroids part is being adapted from: https://stackoverflow.com/questions/61181342/how-to-graph-centroids-with-kmeans"
   ]
  },
  {
   "cell_type": "markdown",
   "id": "906d5d76-9b09-48fb-9046-a6947f29b935",
   "metadata": {},
   "source": [
    "# Anomolous data"
   ]
  },
  {
   "cell_type": "markdown",
   "id": "2efb96d3-7e91-4efa-9d01-4bccaee43a3a",
   "metadata": {},
   "source": [
    " x of brown: 65.8  y of brown11.7,   x of red: 13.00322581"
   ]
  },
  {
   "cell_type": "markdown",
   "id": "a15995ef-f361-4d72-b800-20f78272152f",
   "metadata": {},
   "source": [
    "# Advanced Regression/Classifer Tools"
   ]
  },
  {
   "cell_type": "code",
   "execution_count": null,
   "id": "4bf8b125-1f58-43b8-a44b-a219fab19f17",
   "metadata": {},
   "outputs": [],
   "source": []
  }
 ],
 "metadata": {
  "kernelspec": {
   "display_name": "Python 3 (ipykernel)",
   "language": "python",
   "name": "python3"
  },
  "language_info": {
   "codemirror_mode": {
    "name": "ipython",
    "version": 3
   },
   "file_extension": ".py",
   "mimetype": "text/x-python",
   "name": "python",
   "nbconvert_exporter": "python",
   "pygments_lexer": "ipython3",
   "version": "3.11.9"
  }
 },
 "nbformat": 4,
 "nbformat_minor": 5
}
