{
 "cells": [
  {
   "cell_type": "markdown",
   "id": "7ca650c2-d35d-44d2-b4f8-d6b8c4a1f86c",
   "metadata": {},
   "source": [
    "# Pull in dataset, cleaning it, and splitting it."
   ]
  },
  {
   "cell_type": "code",
   "execution_count": 4,
   "id": "7a5353ef-1e55-4b03-9b92-13bf42af20a4",
   "metadata": {},
   "outputs": [],
   "source": [
    "import pandas as pd \n",
    "import sklearn\n",
    "from sklearn.model_selection import StratifiedShuffleSplit\n",
    "\n",
    "\n",
    "\n",
    "#initialize to use for later\n",
    "wine_train_set=0\n",
    "wine_test_set=0\n",
    "#code is the same as from over on the initial exploration notebook.\n",
    "dataframe = pd.read_csv(\"winequality-white.csv\")\n",
    "dataframeCopy = dataframe.copy()\n",
    "dataframeCopy.dropna(axis='index', how='any', inplace=True)\n",
    "dataframeCopy.dropna(axis='columns', how='any', inplace=True)\n",
    "\n",
    "#stratifying data on quality to predict it\n",
    "#reverted the test size\n",
    "splitter = StratifiedShuffleSplit(n_splits=1, test_size=0.25, random_state=456)\n",
    "\n",
    "for train_indices, test_indices in splitter.split(dataframeCopy, dataframeCopy[\"quality\"]):\n",
    "    wine_train_set = dataframeCopy.iloc[train_indices]\n",
    "    wine_test_set = dataframeCopy.iloc[test_indices]\n",
    "    \n",
    "\n",
    "workingset=wine_train_set.copy()\n",
    "testingset=wine_test_set.copy()"
   ]
  },
  {
   "cell_type": "markdown",
   "id": "d38ef80c-145e-499b-bcad-b44065fd116c",
   "metadata": {},
   "source": [
    "# Clustering"
   ]
  },
  {
   "cell_type": "code",
   "execution_count": 13,
   "id": "fda39645-62f4-4bf0-a319-6afb10354ea4",
   "metadata": {},
   "outputs": [
    {
     "name": "stdout",
     "output_type": "stream",
     "text": [
      "Centroids are: [[1.30032258e+01 9.56736243e+00 9.97497495e-01 4.93282732e-02\n",
      "  2.80407970e-01 7.00132827e+00 4.99829222e-01 3.13762808e+00]\n",
      " [2.20665635e+00 1.21550052e+01 9.90346494e-01 3.60433437e-02\n",
      "  2.83761610e-01 6.51455108e+00 4.97260062e-01 3.21518576e+00]\n",
      " [5.65348331e+00 1.07843880e+01 9.93448331e-01 4.55152395e-02\n",
      "  2.86335269e-01 6.72467344e+00 4.81320755e-01 3.20898403e+00]\n",
      " [8.90639445e+00 1.01596251e+01 9.95380755e-01 4.68582435e-02\n",
      "  2.92280431e-01 6.95069337e+00 4.70847458e-01 3.16855162e+00]\n",
      " [1.72881743e+01 9.34266943e+00 9.99167884e-01 4.99253112e-02\n",
      "  2.67074689e-01 6.91161826e+00 4.96265560e-01 3.14863071e+00]\n",
      " [1.58614130e+00 1.02546558e+01 9.92801087e-01 4.92793478e-02\n",
      "  2.61016304e-01 7.00135870e+00 4.96315217e-01 3.21538043e+00]\n",
      " [6.58000000e+01 1.17000000e+01 1.03898000e+00 7.40000000e-02\n",
      "  9.65000000e-01 7.80000000e+00 6.90000000e-01 3.39000000e+00]]\n",
      "The final distortion is: 9350.752692920545\n",
      "[2 1 1 ... 3 3 3]\n",
      "Averaging and taking the square root gives  1.5955588284995887\n",
      "The predicted class: [2 1 1 ... 3 3 3]\n"
     ]
    }
   ],
   "source": [
    "#import for Clustering as pert the K-means clustering Slides.\n",
    "from sklearn.cluster import KMeans\n",
    "import math\n",
    "\n",
    "\n",
    "#buuld classifier and X before fitting\n",
    "kmeans_classifier = KMeans(n_clusters=7, n_init=20)\n",
    "\n",
    "X= workingset[[\"residual sugar\", \"alcohol\", \"density\",\"chlorides\",\"volatile acidity\", \"fixed acidity\", \"sulphates\", \"pH\"]]\n",
    "\n",
    "\n",
    "#fit and printout attribrutes.\n",
    "kmeans_classifier.fit(X)\n",
    "print(\"Centroids are:\", kmeans_classifier.cluster_centers_)\n",
    "print(\"The final distortion is:\", kmeans_classifier.inertia_)\n",
    "print(kmeans_classifier.labels_)\n",
    "RMS_average = math.sqrt(kmeans_classifier.inertia_ / len(X))\n",
    "print(\"Averaging and taking the square root gives \", RMS_average)\n",
    "\n",
    "#print out closest cluster centroid.\n",
    "new_instance = workingset[[\"residual sugar\", \"alcohol\", \"density\",\"chlorides\",\"volatile acidity\", \"fixed acidity\", \"sulphates\", \"pH\" ]]\n",
    "class_out = kmeans_classifier.predict(new_instance)\n",
    "print(\"The predicted class:\", class_out)\n",
    "\n"
   ]
  },
  {
   "cell_type": "markdown",
   "id": "0fe70d17-074b-4d16-bc65-3895c26a553c",
   "metadata": {},
   "source": [
    "# Dimensional Analysis"
   ]
  },
  {
   "cell_type": "code",
   "execution_count": null,
   "id": "87feac3f-0da3-4c58-9923-b7edaee41031",
   "metadata": {},
   "outputs": [],
   "source": []
  },
  {
   "cell_type": "markdown",
   "id": "5ff1d36a-cb0f-45a7-8210-a2f521bd84b5",
   "metadata": {},
   "source": [
    "# Vizualization and Narrative of Discoveries"
   ]
  },
  {
   "cell_type": "code",
   "execution_count": null,
   "id": "208b0f9f-4240-489e-b80f-16d53bc837b5",
   "metadata": {},
   "outputs": [],
   "source": []
  },
  {
   "cell_type": "markdown",
   "id": "906d5d76-9b09-48fb-9046-a6947f29b935",
   "metadata": {},
   "source": [
    "# Anomalous Data"
   ]
  },
  {
   "cell_type": "code",
   "execution_count": null,
   "id": "f8edd1e1-13b6-4fc7-949b-f3e3627f9438",
   "metadata": {},
   "outputs": [],
   "source": []
  },
  {
   "cell_type": "markdown",
   "id": "a15995ef-f361-4d72-b800-20f78272152f",
   "metadata": {},
   "source": [
    "# Advanced Regression/Classifer Tools"
   ]
  },
  {
   "cell_type": "code",
   "execution_count": null,
   "id": "4bf8b125-1f58-43b8-a44b-a219fab19f17",
   "metadata": {},
   "outputs": [],
   "source": []
  }
 ],
 "metadata": {
  "kernelspec": {
   "display_name": "Python 3 (ipykernel)",
   "language": "python",
   "name": "python3"
  },
  "language_info": {
   "codemirror_mode": {
    "name": "ipython",
    "version": 3
   },
   "file_extension": ".py",
   "mimetype": "text/x-python",
   "name": "python",
   "nbconvert_exporter": "python",
   "pygments_lexer": "ipython3",
   "version": "3.11.9"
  }
 },
 "nbformat": 4,
 "nbformat_minor": 5
}
