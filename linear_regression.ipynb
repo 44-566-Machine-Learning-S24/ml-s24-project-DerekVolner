{
 "cells": [
  {
   "cell_type": "code",
   "execution_count": null,
   "id": "46314dbe-d428-4e01-bf21-97a33eb82397",
   "metadata": {},
   "outputs": [],
   "source": [
    "#import modules for reading in csv files and doing the splits\n",
    "import sklearn\n",
    "from sklearn.model_selection import StratifiedShuffleSplit\n",
    "import pandas as pd \n",
    "\n",
    "#code is the same as from over on the initial exploration notebook.\n",
    "dataframe = pd.read_csv(\"winequality-white.csv\")\n",
    "dataframeCopy = dataframe.copy()\n",
    "\n",
    "#stratifying data on quality to predict it\n",
    "splitter = StratifiedShuffleSplit(n_splits=1, test_size=0.4, random_state=103)\n",
    "\n",
    "for train_indices, test_indices in splitter.split(dataframeCopy, dataframeCopy[\"quality\"]):\n",
    "    wine_train_set = dataframeCopy.iloc[train_indices]\n",
    "    wine_test_set = dataframeCopy.iloc[test_indices]\n",
    "\n",
    "#there is no python to clean the dataset due to no null values in the initial dataset,\n",
    "#there is seemingly no duplicated rows or columns so far as I could tell.\n",
    "\n"
   ]
  }
 ],
 "metadata": {
  "kernelspec": {
   "display_name": "Python 3 (ipykernel)",
   "language": "python",
   "name": "python3"
  },
  "language_info": {
   "codemirror_mode": {
    "name": "ipython",
    "version": 3
   },
   "file_extension": ".py",
   "mimetype": "text/x-python",
   "name": "python",
   "nbconvert_exporter": "python",
   "pygments_lexer": "ipython3",
   "version": "3.11.8"
  }
 },
 "nbformat": 4,
 "nbformat_minor": 5
}
