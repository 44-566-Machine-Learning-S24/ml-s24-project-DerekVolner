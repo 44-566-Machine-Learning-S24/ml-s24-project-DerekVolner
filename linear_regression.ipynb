{
 "cells": [
  {
   "cell_type": "code",
   "execution_count": 12,
   "id": "46314dbe-d428-4e01-bf21-97a33eb82397",
   "metadata": {},
   "outputs": [],
   "source": [
    "#import modules for reading in csv files and doing the splits\n",
    "import sklearn\n",
    "from sklearn.model_selection import StratifiedShuffleSplit\n",
    "import pandas as pd \n",
    "\n",
    "#initialize to use for later\n",
    "wine_train_set=0\n",
    "wine_test_set=0\n",
    "#code is the same as from over on the initial exploration notebook.\n",
    "dataframe = pd.read_csv(\"winequality-white.csv\")\n",
    "dataframeCopy = dataframe.copy()\n",
    "\n",
    "#stratifying data on quality to predict it\n",
    "#reverted the test size\n",
    "splitter = StratifiedShuffleSplit(n_splits=1, test_size=0.2, random_state=103)\n",
    "\n",
    "for train_indices, test_indices in splitter.split(dataframeCopy, dataframeCopy[\"quality\"]):\n",
    "    wine_train_set = dataframeCopy.iloc[train_indices]\n",
    "    wine_test_set = dataframeCopy.iloc[test_indices]\n",
    "    \n",
    "\n",
    "workingset=wine_train_set.copy()\n",
    "\n",
    "#there is no python to clean the dataset due to no null values in the initial dataset,\n",
    "#there is seemingly no duplicated rows or columns so far as I could tell.\n",
    "\n"
   ]
  },
  {
   "cell_type": "markdown",
   "id": "2f294ebd-c2ec-4541-846a-c8ab7cc070fc",
   "metadata": {},
   "source": [
    "### Pick an initial set of features for X and the target feature y.  Explain why you made this choice.\n",
    "For target feature y I would use the feature \"quality\" to attempt to predict and for the x here I would use the \"alcohol\" feature which represents the alcohol by volume of the white wine, I want to use alcohol here because on the correlation I ran on the initial_exploration file the alcohol had the highest at 0.43 correlation, I would also use density as an x feature because it has the second highest correlation with the quality, chlorides, volatile acidity, and total sulphur dioxide would be the other features I would use because these are third, fourth, and fifth most correlated with the quality.\n",
    "\n"
   ]
  },
  {
   "cell_type": "code",
   "execution_count": 33,
   "id": "50611cf2-8e03-4b49-85d1-916c4e067ce5",
   "metadata": {},
   "outputs": [
    {
     "name": "stdout",
     "output_type": "stream",
     "text": [
      "The bias is  -38.25684662581322\n",
      "The feature coefficients are  [ 4.05777097e-01  4.06254406e+01 -8.71239634e-01 -2.08705383e+00\n",
      "  7.62062509e-04]\n",
      "r2 is: 0.24561815745354998\n",
      "mean squared error is  0.5914298794025088\n",
      "The root mean squared error is  0.7690447837431242\n"
     ]
    }
   ],
   "source": [
    "#computed metrics for my data, looked at a combination of the lecture files+classes jupyter notebooks\n",
    "from sklearn.linear_model import LinearRegression\n",
    "from sklearn.metrics import mean_squared_error\n",
    "reg = LinearRegression()\n",
    "\n",
    "#based y off the markdown response\n",
    "y = workingset[\"quality\"]\n",
    "x = workingset[[\"alcohol\",\"density\",\"chlorides\",\"volatile acidity\",\"total sulfur dioxide\"]]\n",
    "\n",
    "#test data \n",
    "reg.fit(x,y)\n",
    "print(\"The bias is \" , reg.intercept_)\n",
    "print(\"The feature coefficients are \", reg.coef_)\n",
    "\n",
    "#get r2\n",
    "r2=reg.score(x,y)\n",
    "print(\"r2 is: \" + str(r2))\n",
    "\n",
    "#predict\n",
    "\n",
    "y_predict=reg.predict(x)\n",
    "#MSE\n",
    "ms_error = mean_squared_error(y,y_predict)\n",
    "print(\"mean squared error is \",  ms_error)\n",
    "\n",
    "from math import sqrt\n",
    "rmse = sqrt(ms_error)\n",
    "print(\"The root mean squared error is \", rmse)\n"
   ]
  },
  {
   "cell_type": "markdown",
   "id": "f67ad064-8b4f-4194-abfc-90af64a35310",
   "metadata": {},
   "source": [
    "### Comment on the results. Part B-4\n",
    "Our intercept is -38\n",
    "\n",
    "the strongest coefficent we got back was from the density being around 40. Then I'm not sure if there is an error with the data or the program but the lowest is indicated at a negative 2 coefficent so in future models I will keep the density and drop the volatile acidity to see if that improves anything.\n",
    "\n",
    "The r^2 gives an idea of how much variation in the model is determined by input, and is low, with only about 24% being explained by input parameters, indicating our model is not performing well and low predicitive power.\n",
    "\n",
    "The root mean squared error and the mean squared error are both low indicating our model is a relatively good fit for our data.\n",
    "\n",
    "\n",
    "\n",
    "\n",
    "\n"
   ]
  }
 ],
 "metadata": {
  "kernelspec": {
   "display_name": "Python 3 (ipykernel)",
   "language": "python",
   "name": "python3"
  },
  "language_info": {
   "codemirror_mode": {
    "name": "ipython",
    "version": 3
   },
   "file_extension": ".py",
   "mimetype": "text/x-python",
   "name": "python",
   "nbconvert_exporter": "python",
   "pygments_lexer": "ipython3",
   "version": "3.11.8"
  }
 },
 "nbformat": 4,
 "nbformat_minor": 5
}
